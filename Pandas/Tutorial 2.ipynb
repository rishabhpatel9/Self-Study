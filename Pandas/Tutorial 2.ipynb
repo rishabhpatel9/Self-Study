{
 "cells": [
  {
   "cell_type": "code",
   "execution_count": 2,
   "metadata": {},
   "outputs": [],
   "source": [
    "import pandas as pd\n",
    "reviews = pd.read_csv(\"data/winemag-data-130k-v2.csv\", index_col=0)"
   ]
  },
  {
   "cell_type": "code",
   "execution_count": 3,
   "metadata": {},
   "outputs": [
    {
     "name": "stdout",
     "output_type": "stream",
     "text": [
      "         country                                        description  \\\n",
      "0          Italy  Aromas include tropical fruit, broom, brimston...   \n",
      "1       Portugal  This is ripe and fruity, a wine that is smooth...   \n",
      "2             US  Tart and snappy, the flavors of lime flesh and...   \n",
      "3             US  Pineapple rind, lemon pith and orange blossom ...   \n",
      "4             US  Much like the regular bottling from 2012, this...   \n",
      "...          ...                                                ...   \n",
      "129966   Germany  Notes of honeysuckle and cantaloupe sweeten th...   \n",
      "129967        US  Citation is given as much as a decade of bottl...   \n",
      "129968    France  Well-drained gravel soil gives this wine its c...   \n",
      "129969    France  A dry style of Pinot Gris, this is crisp with ...   \n",
      "129970    France  Big, rich and off-dry, this is powered by inte...   \n",
      "\n",
      "                                   designation  points  price  \\\n",
      "0                                 Vulkà Bianco      87    NaN   \n",
      "1                                     Avidagos      87   15.0   \n",
      "2                                          NaN      87   14.0   \n",
      "3                         Reserve Late Harvest      87   13.0   \n",
      "4           Vintner's Reserve Wild Child Block      87   65.0   \n",
      "...                                        ...     ...    ...   \n",
      "129966  Brauneberger Juffer-Sonnenuhr Spätlese      90   28.0   \n",
      "129967                                     NaN      90   75.0   \n",
      "129968                                   Kritt      90   30.0   \n",
      "129969                                     NaN      90   32.0   \n",
      "129970           Lieu-dit Harth Cuvée Caroline      90   21.0   \n",
      "\n",
      "                 province             region_1           region_2  \\\n",
      "0       Sicily & Sardinia                 Etna                NaN   \n",
      "1                   Douro                  NaN                NaN   \n",
      "2                  Oregon    Willamette Valley  Willamette Valley   \n",
      "3                Michigan  Lake Michigan Shore                NaN   \n",
      "4                  Oregon    Willamette Valley  Willamette Valley   \n",
      "...                   ...                  ...                ...   \n",
      "129966              Mosel                  NaN                NaN   \n",
      "129967             Oregon               Oregon       Oregon Other   \n",
      "129968             Alsace               Alsace                NaN   \n",
      "129969             Alsace               Alsace                NaN   \n",
      "129970             Alsace               Alsace                NaN   \n",
      "\n",
      "               taster_name taster_twitter_handle  \\\n",
      "0            Kerin O’Keefe          @kerinokeefe   \n",
      "1               Roger Voss            @vossroger   \n",
      "2             Paul Gregutt           @paulgwine    \n",
      "3       Alexander Peartree                   NaN   \n",
      "4             Paul Gregutt           @paulgwine    \n",
      "...                    ...                   ...   \n",
      "129966  Anna Lee C. Iijima                   NaN   \n",
      "129967        Paul Gregutt           @paulgwine    \n",
      "129968          Roger Voss            @vossroger   \n",
      "129969          Roger Voss            @vossroger   \n",
      "129970          Roger Voss            @vossroger   \n",
      "\n",
      "                                                    title         variety  \\\n",
      "0                       Nicosia 2013 Vulkà Bianco  (Etna)     White Blend   \n",
      "1           Quinta dos Avidagos 2011 Avidagos Red (Douro)  Portuguese Red   \n",
      "2           Rainstorm 2013 Pinot Gris (Willamette Valley)      Pinot Gris   \n",
      "3       St. Julian 2013 Reserve Late Harvest Riesling ...        Riesling   \n",
      "4       Sweet Cheeks 2012 Vintner's Reserve Wild Child...      Pinot Noir   \n",
      "...                                                   ...             ...   \n",
      "129966  Dr. H. Thanisch (Erben Müller-Burggraef) 2013 ...        Riesling   \n",
      "129967                  Citation 2004 Pinot Noir (Oregon)      Pinot Noir   \n",
      "129968  Domaine Gresser 2013 Kritt Gewurztraminer (Als...  Gewürztraminer   \n",
      "129969      Domaine Marcel Deiss 2012 Pinot Gris (Alsace)      Pinot Gris   \n",
      "129970  Domaine Schoffit 2012 Lieu-dit Harth Cuvée Car...  Gewürztraminer   \n",
      "\n",
      "                                          winery  \n",
      "0                                        Nicosia  \n",
      "1                            Quinta dos Avidagos  \n",
      "2                                      Rainstorm  \n",
      "3                                     St. Julian  \n",
      "4                                   Sweet Cheeks  \n",
      "...                                          ...  \n",
      "129966  Dr. H. Thanisch (Erben Müller-Burggraef)  \n",
      "129967                                  Citation  \n",
      "129968                           Domaine Gresser  \n",
      "129969                      Domaine Marcel Deiss  \n",
      "129970                          Domaine Schoffit  \n",
      "\n",
      "[129971 rows x 13 columns]\n"
     ]
    }
   ],
   "source": [
    "print(reviews)"
   ]
  },
  {
   "cell_type": "code",
   "execution_count": 4,
   "metadata": {},
   "outputs": [
    {
     "name": "stdout",
     "output_type": "stream",
     "text": [
      "0            Italy\n",
      "1         Portugal\n",
      "2               US\n",
      "3               US\n",
      "4               US\n",
      "            ...   \n",
      "129966     Germany\n",
      "129967          US\n",
      "129968      France\n",
      "129969      France\n",
      "129970      France\n",
      "Name: country, Length: 129971, dtype: object\n"
     ]
    }
   ],
   "source": [
    "print(reviews.country)"
   ]
  },
  {
   "cell_type": "code",
   "execution_count": 5,
   "metadata": {},
   "outputs": [
    {
     "name": "stdout",
     "output_type": "stream",
     "text": [
      "Italy\n"
     ]
    }
   ],
   "source": [
    "print(reviews['country'][0])"
   ]
  },
  {
   "cell_type": "code",
   "execution_count": 6,
   "metadata": {},
   "outputs": [
    {
     "name": "stdout",
     "output_type": "stream",
     "text": [
      "country                                                              Italy\n",
      "description              Aromas include tropical fruit, broom, brimston...\n",
      "designation                                                   Vulkà Bianco\n",
      "points                                                                  87\n",
      "price                                                                  NaN\n",
      "province                                                 Sicily & Sardinia\n",
      "region_1                                                              Etna\n",
      "region_2                                                               NaN\n",
      "taster_name                                                  Kerin O’Keefe\n",
      "taster_twitter_handle                                         @kerinokeefe\n",
      "title                                    Nicosia 2013 Vulkà Bianco  (Etna)\n",
      "variety                                                        White Blend\n",
      "winery                                                             Nicosia\n",
      "Name: 0, dtype: object\n"
     ]
    }
   ],
   "source": [
    "print(reviews.iloc[0])"
   ]
  },
  {
   "cell_type": "code",
   "execution_count": null,
   "metadata": {},
   "outputs": [],
   "source": []
  }
 ],
 "metadata": {
  "kernelspec": {
   "display_name": "Python 3.10.2 64-bit",
   "language": "python",
   "name": "python3"
  },
  "language_info": {
   "codemirror_mode": {
    "name": "ipython",
    "version": 3
   },
   "file_extension": ".py",
   "mimetype": "text/x-python",
   "name": "python",
   "nbconvert_exporter": "python",
   "pygments_lexer": "ipython3",
   "version": "3.10.2"
  },
  "orig_nbformat": 4,
  "vscode": {
   "interpreter": {
    "hash": "73dd3e9b8560be4eb6b5d0b09c06c2ef1dcaada477697451385c3e06c6541382"
   }
  }
 },
 "nbformat": 4,
 "nbformat_minor": 2
}
